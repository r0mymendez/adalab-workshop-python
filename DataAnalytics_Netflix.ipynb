{
  "nbformat": 4,
  "nbformat_minor": 0,
  "metadata": {
    "colab": {
      "name": "DataAnalytics_Netflix.ipynb",
      "provenance": [],
      "collapsed_sections": []
    },
    "kernelspec": {
      "name": "python3",
      "display_name": "Python 3"
    },
    "language_info": {
      "name": "python"
    }
  },
  "cells": [
    {
      "cell_type": "markdown",
      "source": [
        "<centre>\n",
        "<img src=\"https://adalab.es/wp-content/uploads/2021/05/logo-adalab.svg\" width=15% height=70%  >\n"
      ],
      "metadata": {
        "id": "LM7YXmLK73u6"
      }
    },
    {
      "cell_type": "markdown",
      "source": [
        "## <img src=\"http://icons.iconarchive.com/icons/cornmanthe3rd/plex/256/Other-python-icon.png\" width=\"40\"> Workshop de data analytics & Netflix 🍿 🎬 📺\n",
        "\n",
        "![netflix](https://play-lh.googleusercontent.com/0rgPYj0GwZ6txpYZrzoMdhwzqg7vY6C9B-Ol7jlaz-Ox2rgpD4Tr82ZgDqkirrEohbGm=w600-h300-pc0xffffff-pd)\n",
        "\n",
        "\n",
        "Los datos con los que vamos a desarrollar este workshop provienen de [Kaggle](https://www.kaggle.com/datasets/shivamb/netflix-shows)\n",
        "\n",
        "> Kaggle, una subsidiaria de **Google LLC**, es una comunidad en línea de científicos de datos y profesionales del aprendizaje automático. Kaggle permite a los usuarios encontrar y publicar conjuntos de datos, explorar y crear modelos en un entorno de ciencia de datos basado en la web; trabajar con otros científicos de datos e ingenieros de aprendizaje automático y participar en concursos para resolver desafíos de ciencia de datos. \n",
        ">\n",
        "> Ref: [wikipedia](https://es.wikipedia.org/wiki/Kaggle)\n",
        "\n",
        "\n",
        "<br>\n",
        "\n",
        "---\n",
        "\n",
        "<br>\n",
        "\n",
        "**Instructor:** \n",
        "\n",
        "*  <spand>    <img src=\"https://logodownload.org/wp-content/uploads/2014/09/twitter-logo-2-1.png\" width=\"20\"></spand> Romina Mendez:\n",
        "[@r0mymendez](https://twitter.com/r0mymendez)\n",
        "\n",
        "<br>\n",
        "\n",
        "---"
      ],
      "metadata": {
        "id": "C-K8J_3_8-tb"
      }
    },
    {
      "cell_type": "markdown",
      "source": [
        "#### Introducción a python 🐍"
      ],
      "metadata": {
        "id": "sInBN5Xi7Zim"
      }
    },
    {
      "cell_type": "code",
      "source": [
        "print(________________)"
      ],
      "metadata": {
        "id": "trtDXSht6gHm"
      },
      "execution_count": null,
      "outputs": []
    },
    {
      "cell_type": "code",
      "source": [
        "nombre = __________"
      ],
      "metadata": {
        "id": "CX9laani66BA"
      },
      "execution_count": null,
      "outputs": []
    },
    {
      "cell_type": "code",
      "source": [
        "print('mi nombre es')"
      ],
      "metadata": {
        "id": "LUq-Eit47ApE"
      },
      "execution_count": null,
      "outputs": []
    },
    {
      "cell_type": "code",
      "source": [
        "nombre = ______('¿ Cual es tu nombre ? ')\n",
        "print(________________)"
      ],
      "metadata": {
        "id": "GVKAdbj_6fo-"
      },
      "execution_count": null,
      "outputs": []
    },
    {
      "cell_type": "markdown",
      "source": [
        "### Ahora comencemos con la práctica\n",
        "\n",
        "![](https://media.giphy.com/media/l3V0dy1zzyjbYTQQM/giphy.gif)"
      ],
      "metadata": {
        "id": "0VUzvb0IfXcr"
      }
    },
    {
      "cell_type": "markdown",
      "source": [
        "🍿 1. Importar las librerías que vamos a utilizar"
      ],
      "metadata": {
        "id": "SSFSDrfN9v33"
      }
    },
    {
      "cell_type": "code",
      "execution_count": null,
      "metadata": {
        "id": "IF4ZCcIl7zp1"
      },
      "outputs": [],
      "source": [
        "# Manipulación de datos \n",
        "import pandas as pd\n",
        "\n",
        "# Visualizaciones\n",
        "import seaborn as sns\n",
        "import matplotlib.pyplot as plt\n",
        "import plotly.express as px\n",
        "from wordcloud import WordCloud"
      ]
    },
    {
      "cell_type": "markdown",
      "source": [
        "🍿 2. Importar el dataset"
      ],
      "metadata": {
        "id": "nIXuh35H-BYF"
      }
    },
    {
      "cell_type": "code",
      "source": [
        "url='https://raw.githubusercontent.com/r0mymendez/adalab-workshop-python/main/netflix_titles.csv'\n",
        "data_netflix=___________________"
      ],
      "metadata": {
        "id": "WuiZSl7b-KnM"
      },
      "execution_count": null,
      "outputs": []
    },
    {
      "cell_type": "markdown",
      "source": [
        "🍿 3. ¿Cuántas filas y columnas tiene el dataframe?"
      ],
      "metadata": {
        "id": "6jw1mE0ODojM"
      }
    },
    {
      "cell_type": "code",
      "source": [
        ""
      ],
      "metadata": {
        "id": "_vqPXaEiDv4m"
      },
      "execution_count": null,
      "outputs": []
    },
    {
      "cell_type": "code",
      "source": [
        "print('La cantidad de filas que hay son',___________________[___])"
      ],
      "metadata": {
        "id": "bX6uCfnerzsL"
      },
      "execution_count": null,
      "outputs": []
    },
    {
      "cell_type": "markdown",
      "source": [
        "🍿 4. Imprima las primeras 10 filas del dataframe"
      ],
      "metadata": {
        "id": "p4hz8Z3KDJ2A"
      }
    },
    {
      "cell_type": "code",
      "source": [
        ""
      ],
      "metadata": {
        "id": "UGdQ0xFZDHEU"
      },
      "execution_count": null,
      "outputs": []
    },
    {
      "cell_type": "markdown",
      "source": [
        "🍿 5. Imprima la estructura de las columnas del dataframe"
      ],
      "metadata": {
        "id": "R8H99tAGDb0G"
      }
    },
    {
      "cell_type": "code",
      "source": [
        ""
      ],
      "metadata": {
        "id": "nO0t_CCiDiTj"
      },
      "execution_count": null,
      "outputs": []
    },
    {
      "cell_type": "markdown",
      "source": [
        "🍿 6. La calificación para niños en la televisión es: \n",
        "* TV-Y: Para niños de todas las edades. \n",
        "* TV-Y7: Dirigido a niños de 7 años de edad y mayores. \n",
        "\n",
        "----\n",
        "\n",
        "Pero también existe la clasificación TV-PG es la que se recomienda supervisión de los padres. <br>\n",
        "¿Hay contenido en Netflix que tenga clasificación TV-PG?\n",
        "\n"
      ],
      "metadata": {
        "id": "y793wE5670-q"
      }
    },
    {
      "cell_type": "code",
      "source": [
        ""
      ],
      "metadata": {
        "id": "i21Bs0QQ8lA-"
      },
      "execution_count": null,
      "outputs": []
    },
    {
      "cell_type": "markdown",
      "source": [
        "🍿 7. ¿Cuántos valores únicos hay para cada variable?\n"
      ],
      "metadata": {
        "id": "0yxXy5mo-ELx"
      }
    },
    {
      "cell_type": "code",
      "source": [
        ""
      ],
      "metadata": {
        "id": "L0eoErB57_o6"
      },
      "execution_count": null,
      "outputs": []
    },
    {
      "cell_type": "markdown",
      "source": [
        "🍿 8. ¿Cuántos títulos hay para cada tipo?"
      ],
      "metadata": {
        "id": "GhbGDZOzAUJV"
      }
    },
    {
      "cell_type": "code",
      "source": [
        ""
      ],
      "metadata": {
        "id": "xJft5KmNAEsG"
      },
      "execution_count": null,
      "outputs": []
    },
    {
      "cell_type": "markdown",
      "source": [
        "🍿 9. Generar una visualización por el tipo de clasificación de contenidos de Netflix utilizando el método countplot de seaborn\n",
        "\n",
        "\n",
        "\n",
        "> 📊 **seaborn.countplot()**: es un método de seaborn el cual muestra los conteos de observaciones en cada contenedor categórico usando barras.\n"
      ],
      "metadata": {
        "id": "ZDBDBTW4wZBe"
      }
    },
    {
      "cell_type": "code",
      "source": [
        ""
      ],
      "metadata": {
        "id": "SuG69WVsiqsy"
      },
      "execution_count": null,
      "outputs": []
    },
    {
      "cell_type": "markdown",
      "source": [
        "🍿 10. ¿Cómo podemos mejorar la visualización generada en el ejercicio anterior?"
      ],
      "metadata": {
        "id": "UQiIUTcvDyO9"
      }
    },
    {
      "cell_type": "code",
      "source": [
        ""
      ],
      "metadata": {
        "id": "5wCCPPRZiqpI"
      },
      "execution_count": null,
      "outputs": []
    },
    {
      "cell_type": "markdown",
      "source": [
        "🍿 11. Agreguemos de tipo de clasificación a la visualización"
      ],
      "metadata": {
        "id": "Ma0KcBdUD_hb"
      }
    },
    {
      "cell_type": "code",
      "source": [
        ""
      ],
      "metadata": {
        "id": "SYc4HjWoiqlR"
      },
      "execution_count": null,
      "outputs": []
    },
    {
      "cell_type": "markdown",
      "source": [
        "🍿 12. Cambiemos los colores de la visualización por tipo de título"
      ],
      "metadata": {
        "id": "EWWKMy1zGkxC"
      }
    },
    {
      "cell_type": "code",
      "source": [
        "colors={'Movie':__________,'TV Show':________}"
      ],
      "metadata": {
        "id": "vLVTTq2-GrG6"
      },
      "execution_count": null,
      "outputs": []
    },
    {
      "cell_type": "code",
      "source": [
        ""
      ],
      "metadata": {
        "id": "fMGpXZbDRn0I"
      },
      "execution_count": null,
      "outputs": []
    },
    {
      "cell_type": "markdown",
      "source": [
        "----------------\n",
        "🔍 Se pueden buscar paletas de colores en algunas de estas paginas:\n",
        "\n",
        "\n",
        "*   ✏️ **[Adobe Color](https://color.adobe.com/es/explore)**\n",
        "*   ✏️ **[Image Color Picke](https://imagecolorpicker.com/)**\n",
        "*   ✏️ **[Color Brewer 2](https://colorbrewer2.org/#type=sequential&scheme=BuGn&n=3)**\n",
        "\n",
        "\n",
        "Un color HEX se expresa como una combinación de seis dígitos de números y letras definidos por su combinación de 🔴 rojo, 📗 verde y 🔷 azul (RGB).\n",
        "Como por ejemplo:\n",
        "<br>\n",
        "\n",
        "<center>\n",
        "<img src=\"https://img.microsiervos.com/images2018/RGB_ColorHex.jpg\" width=\"70%\" height=\"60%\">\n",
        "</center>\n",
        "\n",
        "\n",
        "\n",
        "\n",
        "-------------------"
      ],
      "metadata": {
        "id": "irp6pAFnPncO"
      }
    },
    {
      "cell_type": "markdown",
      "source": [
        "🍿 13. Ahora podemos agregar un título a la visualización y modificar los títulos de los ejes"
      ],
      "metadata": {
        "id": "BmLnciWvxDIs"
      }
    },
    {
      "cell_type": "code",
      "source": [
        ""
      ],
      "metadata": {
        "id": "R60L1mHRxDrm"
      },
      "execution_count": null,
      "outputs": []
    },
    {
      "cell_type": "markdown",
      "source": [
        "<center>\n",
        "<img src=\"https://upload.wikimedia.org/wikipedia/commons/thumb/3/37/Plotly-logo-01-square.png/1200px-Plotly-logo-01-square.png\" width=\"50%\"> \n",
        "</center>\n",
        "\n",
        "Plotly es un paquete para crear gráficos interactivos y animados,\n",
        "Es un paquete con el que se puede desarrollar dashboard en python y también tiene versiones para lenguajes tales como: python, R, Julia y Javascript.\n",
        "\n",
        "Para ver la documentación del paquete en: https://plotly.com/python/"
      ],
      "metadata": {
        "id": "3Nqf53jvqMZd"
      }
    },
    {
      "cell_type": "markdown",
      "source": [
        "🍿 14. Generemos un grafico animado con plotly, para lo cual importar el dataset a partir de la siguiente url."
      ],
      "metadata": {
        "id": "xC6a5U-nHqot"
      }
    },
    {
      "cell_type": "code",
      "source": [
        "url='https://raw.githubusercontent.com/r0mymendez/adalab-workshop-python/main/netflix_titles_2020_group.csv'"
      ],
      "metadata": {
        "id": "7luOnQ7fH7gN"
      },
      "execution_count": null,
      "outputs": []
    },
    {
      "cell_type": "code",
      "source": [
        "data_group=__________________________"
      ],
      "metadata": {
        "id": "4TkXJupu4ieF"
      },
      "execution_count": null,
      "outputs": []
    },
    {
      "cell_type": "code",
      "source": [
        ""
      ],
      "metadata": {
        "id": "WFP7klaQqpFn"
      },
      "execution_count": null,
      "outputs": []
    },
    {
      "cell_type": "markdown",
      "source": [
        "### Ahora por ultimo ejercicio como bonus\n",
        "![](https://media.giphy.com/media/jtirFYtVwG5a0o1t9o/giphy.gif)\n",
        "\n",
        "\n"
      ],
      "metadata": {
        "id": "jZk362Fw6-pc"
      }
    },
    {
      "cell_type": "markdown",
      "source": [
        "🍿 15. ¿Cual es la palabra más utilizada en los titulos de las peliculas y series de este dataset?"
      ],
      "metadata": {
        "id": "CYsqjEGiIJ87"
      }
    },
    {
      "cell_type": "code",
      "source": [
        "titles=' '.join(___________________).________()\n",
        "\n",
        "plt.figure(figsize=(15,10))\n",
        "wordcloud = WordCloud(collocations=______, max_words=______ ).generate(______)\n",
        "plt.imshow(wordcloud)\n",
        "plt.axis(\"off\")\n",
        "plt.show()"
      ],
      "metadata": {
        "id": "8S_FyU1G2kpF"
      },
      "execution_count": null,
      "outputs": []
    }
  ]
}